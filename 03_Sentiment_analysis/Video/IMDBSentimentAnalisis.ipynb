{
 "cells": [
  {
   "cell_type": "code",
   "execution_count": 1,
   "metadata": {},
   "outputs": [
    {
     "name": "stderr",
     "output_type": "stream",
     "text": [
      "/home/mrlipdx/Documents/ml/tensorflowGPU/lib/python3.5/site-packages/h5py/__init__.py:36: FutureWarning: Conversion of the second argument of issubdtype from `float` to `np.floating` is deprecated. In future, it will be treated as `np.float64 == np.dtype(float).type`.\n",
      "  from ._conv import register_converters as _register_converters\n"
     ]
    }
   ],
   "source": [
    "#imports\n",
    "import tflearn\n",
    "from tflearn.data_utils import to_categorical, pad_sequences\n",
    "from tflearn.datasets import imdb"
   ]
  },
  {
   "cell_type": "code",
   "execution_count": 2,
   "metadata": {},
   "outputs": [
    {
     "name": "stdout",
     "output_type": "stream",
     "text": [
      "TrainX=[[1, 2, 1, 139, 6, 130, 1, 5, 6, 25, 105, 4730, 40], [6691, 1, 10, 333, 10, 17, 27, 4, 34, 181, 6, 1418, 256, 4], [30, 287, 142, 2216, 707, 3763, 20, 68, 57, 30, 37, 309, 14, 4]] \n",
      "TrainY=[0, 1, 0]\n"
     ]
    }
   ],
   "source": [
    "#Loading Data\n",
    "train, test, _ = imdb.load_data(path = 'imdb.pkl', n_words = 10000,\n",
    "                                valid_portion = 0.1)\n",
    "trainX, trainY = train\n",
    "testX, testY = test\n",
    "\n",
    "print(\"TrainX={} \\nTrainY={}\".format(trainX[:3], trainY[:3]))"
   ]
  },
  {
   "cell_type": "code",
   "execution_count": 3,
   "metadata": {},
   "outputs": [
    {
     "name": "stdout",
     "output_type": "stream",
     "text": [
      "(22500, 100)\n",
      "(22500, 2)\n"
     ]
    }
   ],
   "source": [
    "#Data Processing\n",
    "\n",
    "#padding, adding 0 at the end\n",
    "trainX = pad_sequences(trainX, maxlen = 100, value = 0.)\n",
    "testX = pad_sequences(testX, maxlen = 100, value = 0.)\n",
    "\n",
    "#converting to binary vectors\n",
    "trainY = to_categorical(trainY, nb_classes = 2)\n",
    "testY = to_categorical(testY, nb_classes = 2)\n",
    "\n",
    "#print(\"TrainX={} \\nTrainY={}\".format(trainX[:3], trainY[:3]))\n",
    "print(trainX.shape)\n",
    "print(trainY.shape)"
   ]
  },
  {
   "cell_type": "code",
   "execution_count": 4,
   "metadata": {},
   "outputs": [],
   "source": [
    "#Building the network\n",
    "net = tflearn.input_data([None,100])\n",
    "net = tflearn.embedding(net, input_dim=10000, output_dim = 128)\n",
    "net = tflearn.lstm(net, 128, dropout = 0.8)\n",
    "net = tflearn.fully_connected(net, 2, activation = 'softmax')\n",
    "net = tflearn.regression(net, optimizer = 'adam', learning_rate = 0.0001,\n",
    "                        loss = 'categorical_crossentropy')"
   ]
  },
  {
   "cell_type": "code",
   "execution_count": 5,
   "metadata": {},
   "outputs": [
    {
     "name": "stdout",
     "output_type": "stream",
     "text": [
      "Training Step: 7039  | total loss: \u001b[1m\u001b[32m0.11860\u001b[0m\u001b[0m | time: 27.522s\n",
      "| Adam | epoch: 010 | loss: 0.11860 - acc: 0.9601 -- iter: 22496/22500\n",
      "Training Step: 7040  | total loss: \u001b[1m\u001b[32m0.11301\u001b[0m\u001b[0m | time: 28.676s\n",
      "| Adam | epoch: 010 | loss: 0.11301 - acc: 0.9610 | val_loss: 0.55981 - val_acc: 0.8052 -- iter: 22500/22500\n",
      "--\n"
     ]
    }
   ],
   "source": [
    "#traning\n",
    "model = tflearn.DNN(net, tensorboard_verbose = 0)\n",
    "model.fit(trainX, trainY, validation_set = (testX, testY), show_metric = True,\n",
    "         batch_size = 32)"
   ]
  },
  {
   "cell_type": "code",
   "execution_count": null,
   "metadata": {},
   "outputs": [],
   "source": []
  }
 ],
 "metadata": {
  "kernelspec": {
   "display_name": "Python 3",
   "language": "python",
   "name": "python3"
  },
  "language_info": {
   "codemirror_mode": {
    "name": "ipython",
    "version": 3
   },
   "file_extension": ".py",
   "mimetype": "text/x-python",
   "name": "python",
   "nbconvert_exporter": "python",
   "pygments_lexer": "ipython3",
   "version": "3.5.2"
  }
 },
 "nbformat": 4,
 "nbformat_minor": 2
}
